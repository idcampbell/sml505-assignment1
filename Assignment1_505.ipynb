{
  "cells": [
    {
      "cell_type": "markdown",
      "metadata": {
        "id": "F_UMm_-8d1MZ"
      },
      "source": [
        "# Assignment 1\n",
        "\n",
        "\n",
        "*Please fill out the relevant cells below according to the instructions. When done, save the notebook and export it to PDF, upload both the `ipynb` and the PDF file to Canvas.*"
      ]
    },
    {
      "cell_type": "markdown",
      "metadata": {
        "id": "0ml2k7r8d1Mc"
      },
      "source": [
        "## Group Members\n",
        "\n",
        "*Group submission is highly encouraged. If you submit as part of group, list all group members here. Groups can comprise up to 4 students.*\n",
        "\n",
        "* Vanessa Roser\n",
        "* Declan Campbell\n",
        "\n",
        "---"
      ]
    },
    {
      "cell_type": "markdown",
      "metadata": {
        "id": "VrP8NtfPd1Md"
      },
      "source": [
        "## Problem 1: Central Limit Theorem (2pts)\n",
        "\n",
        "Use `scipy.stats` to draw $N$ samples from the uniform and the Cauchy distribution. Confirm whether the mean $\\mu$ of these samples (which is itself a RV) has a distribution $p(\\mu)$ that converges to a normal distribution when $N\\rightarrow\\infty$.\n",
        "\n",
        "A simple way of testing for normality of the distribution of means is the [68–95–99.7 rule](https://en.wikipedia.org/wiki/68%E2%80%9395%E2%80%9399.7_rule), i.e. you expect that there are only about 5% of the means (of a draw of $N$ samples) that deviate from $\\mathrm{mean}(\\mu)$ by more than $2 \\sqrt{\\mathrm{var}(\\mu)}$.\n",
        "\n",
        "Visualization can be helpful but is itself not a sufficient confirmation of normality!"
      ]
    },
    {
      "cell_type": "code",
      "source": [
        "from scipy import stats\n",
        "import numpy as np\n",
        "import matplotlib.pyplot as plt"
      ],
      "metadata": {
        "id": "g-9wKbMMgQsP"
      },
      "execution_count": null,
      "outputs": []
    },
    {
      "cell_type": "code",
      "execution_count": null,
      "metadata": {
        "colab": {
          "base_uri": "https://localhost:8080/",
          "height": 300
        },
        "id": "GJvZF25Ed1Md",
        "outputId": "84eccceb-5fd1-412a-a4a2-51a4a9987d3c"
      },
      "outputs": [
        {
          "output_type": "stream",
          "name": "stdout",
          "text": [
            "Percent of dist of means exceeding 2SD: 0.0446\n"
          ]
        },
        {
          "output_type": "execute_result",
          "data": {
            "text/plain": [
              "<matplotlib.lines.Line2D at 0x7f0a58f1c4c0>"
            ]
          },
          "metadata": {},
          "execution_count": 2
        },
        {
          "output_type": "display_data",
          "data": {
            "text/plain": [
              "<Figure size 432x288 with 1 Axes>"
            ],
            "image/png": "[encoded data removed]"
          },
          "metadata": {
            "needs_background": "light"
          }
        }
      ],
      "source": [
        "meus = [];\n",
        "#is there a way to expressly demonstrate the limit as n->inf?\n",
        "for n in range(0,10000):\n",
        "  samples = stats.uniform.rvs(size=100);\n",
        "  meus.append(np.mean(samples));\n",
        "  \n",
        "#test distribution of means\n",
        "upper = np.mean(meus)+2*np.std(meus)\n",
        "lower = np.mean(meus)-2*np.std(meus)\n",
        "\n",
        "j = [i for i in meus if i > upper or i < lower]\n",
        "\n",
        "print('Percent of dist of means exceeding 2SD:', len(j)/len(meus))\n",
        "\n",
        "x = np.linspace(stats.uniform.ppf(0.01), stats.uniform.ppf(0.99), 100)\n",
        "plt.hist(meus, density=True, bins='auto', histtype='stepfilled', alpha=0.2)\n",
        "plt.axvline(upper)\n",
        "plt.axvline(lower)"
      ]
    },
    {
      "cell_type": "markdown",
      "metadata": {
        "id": "k1kke8ESd1Me"
      },
      "source": [
        "## Problem 2: Hereditary Probabilities (3pts)\n",
        "\n",
        "The height of children is related to their parents: tall parents tend to have tall children. The same is true for small parents and small children. Over the course of just a few generations the standard deviation in children's heights should therefore get larger and larger. But this is not the case! The distribution of heights of children at fixed age is well described by a Normal and has been remarkable stable over hundreds of years (improvements in nutrition have led to height increases overall, but the standard deviation remains stable). Something does not add up! Francis Galton thought so, too, in a study in 1885. \n",
        "\n",
        "### Step 1 (1pt):\n",
        "\n",
        "Load the data he had assembled, from the file `Galton.txt`, into an array. Use `numpy.genfromtxt`, and make use of its arguments `names=True` and `dtype=None` to read in the column names from the header and choose the data type on its own as needed. You will get the columns\n",
        "\n",
        "* `Family`: The family that the child belongs to, labeled from 1 to 204 and 136A\n",
        "* `Father`: The father's height, in inches\n",
        "* `Mother`: The mother's height, in inches\n",
        "* `Gender`: The gender of the child, male (M) or female (F)\n",
        "* `Height`: The height of the child, in inches (presumably fully grown)\n",
        "* `Kids`: The number of kids in the family of the child\n",
        "\n",
        "Make a visualization of the joint distribution of $X$, the parent's height (pick either father or mother), and $Y$, the children's height (pick either son or daughter).\n",
        "\n",
        "**Tip**: The `matplotlib.hist2d` is useful. Don't forget labels and units."
      ]
    },
    {
      "cell_type": "code",
      "execution_count": null,
      "metadata": {
        "colab": {
          "base_uri": "https://localhost:8080/",
          "height": 142
        },
        "id": "BYEeHIe_d1Mf",
        "outputId": "c17bada1-2c6c-4822-cb3e-1f373a557c89"
      },
      "outputs": [
        {
          "output_type": "display_data",
          "data": {
            "text/plain": [
              "<IPython.core.display.HTML object>"
            ],
            "text/html": [
              "\n",
              "     <input type=\"file\" id=\"files-7c95d26b-5cb0-44a2-b7ae-416627d5b816\" name=\"files[]\" multiple disabled\n",
              "        style=\"border:none\" />\n",
              "     <output id=\"result-7c95d26b-5cb0-44a2-b7ae-416627d5b816\">\n",
              "      Upload widget is only available when the cell has been executed in the\n",
              "      current browser session. Please rerun this cell to enable.\n",
              "      </output>\n",
              "      <script>// Copyright 2017 Google LLC\n",
              "//\n",
              "// Licensed under the Apache License, Version 2.0 (the \"License\");\n",
              "// you may not use this file except in compliance with the License.\n",
              "// You may obtain a copy of the License at\n",
              "//\n",
              "//      http://www.apache.org/licenses/LICENSE-2.0\n",
              "//\n",
              "// Unless required by applicable law or agreed to in writing, software\n",
              "// distributed under the License is distributed on an \"AS IS\" BASIS,\n",
              "// WITHOUT WARRANTIES OR CONDITIONS OF ANY KIND, either express or implied.\n",
              "// See the License for the specific language governing permissions and\n",
              "// limitations under the License.\n",
              "\n",
              "/**\n",
              " * @fileoverview Helpers for google.colab Python module.\n",
              " */\n",
              "(function(scope) {\n",
              "function span(text, styleAttributes = {}) {\n",
              "  const element = document.createElement('span');\n",
              "  element.textContent = text;\n",
              "  for (const key of Object.keys(styleAttributes)) {\n",
              "    element.style[key] = styleAttributes[key];\n",
              "  }\n",
              "  return element;\n",
              "}\n",
              "\n",
              "// Max number of bytes which will be uploaded at a time.\n",
              "const MAX_PAYLOAD_SIZE = 100 * 1024;\n",
              "\n",
              "function _uploadFiles(inputId, outputId) {\n",
              "  const steps = uploadFilesStep(inputId, outputId);\n",
              "  const outputElement = document.getElementById(outputId);\n",
              "  // Cache steps on the outputElement to make it available for the next call\n",
              "  // to uploadFilesContinue from Python.\n",
              "  outputElement.steps = steps;\n",
              "\n",
              "  return _uploadFilesContinue(outputId);\n",
              "}\n",
              "\n",
              "// This is roughly an async generator (not supported in the browser yet),\n",
              "// where there are multiple asynchronous steps and the Python side is going\n",
              "// to poll for completion of each step.\n",
              "// This uses a Promise to block the python side on completion of each step,\n",
              "// then passes the result of the previous step as the input to the next step.\n",
              "function _uploadFilesContinue(outputId) {\n",
              "  const outputElement = document.getElementById(outputId);\n",
              "  const steps = outputElement.steps;\n",
              "\n",
              "  const next = steps.next(outputElement.lastPromiseValue);\n",
              "  return Promise.resolve(next.value.promise).then((value) => {\n",
              "    // Cache the last promise value to make it available to the next\n",
              "    // step of the generator.\n",
              "    outputElement.lastPromiseValue = value;\n",
              "    return next.value.response;\n",
              "  });\n",
              "}\n",
              "\n",
              "/**\n",
              " * Generator function which is called between each async step of the upload\n",
              " * process.\n",
              " * @param {string} inputId Element ID of the input file picker element.\n",
              " * @param {string} outputId Element ID of the output display.\n",
              " * @return {!Iterable<!Object>} Iterable of next steps.\n",
              " */\n",
              "function* uploadFilesStep(inputId, outputId) {\n",
              "  const inputElement = document.getElementById(inputId);\n",
              "  inputElement.disabled = false;\n",
              "\n",
              "  const outputElement = document.getElementById(outputId);\n",
              "  outputElement.innerHTML = '';\n",
              "\n",
              "  const pickedPromise = new Promise((resolve) => {\n",
              "    inputElement.addEventListener('change', (e) => {\n",
              "      resolve(e.target.files);\n",
              "    });\n",
              "  });\n",
              "\n",
              "  const cancel = document.createElement('button');\n",
              "  inputElement.parentElement.appendChild(cancel);\n",
              "  cancel.textContent = 'Cancel upload';\n",
              "  const cancelPromise = new Promise((resolve) => {\n",
              "    cancel.onclick = () => {\n",
              "      resolve(null);\n",
              "    };\n",
              "  });\n",
              "\n",
              "  // Wait for the user to pick the files.\n",
              "  const files = yield {\n",
              "    promise: Promise.race([pickedPromise, cancelPromise]),\n",
              "    response: {\n",
              "      action: 'starting',\n",
              "    }\n",
              "  };\n",
              "\n",
              "  cancel.remove();\n",
              "\n",
              "  // Disable the input element since further picks are not allowed.\n",
              "  inputElement.disabled = true;\n",
              "\n",
              "  if (!files) {\n",
              "    return {\n",
              "      response: {\n",
              "        action: 'complete',\n",
              "      }\n",
              "    };\n",
              "  }\n",
              "\n",
              "  for (const file of files) {\n",
              "    const li = document.createElement('li');\n",
              "    li.append(span(file.name, {fontWeight: 'bold'}));\n",
              "    li.append(span(\n",
              "        `(${file.type || 'n/a'}) - ${file.size} bytes, ` +\n",
              "        `last modified: ${\n",
              "            file.lastModifiedDate ? file.lastModifiedDate.toLocaleDateString() :\n",
              "                                    'n/a'} - `));\n",
              "    const percent = span('0% done');\n",
              "    li.appendChild(percent);\n",
              "\n",
              "    outputElement.appendChild(li);\n",
              "\n",
              "    const fileDataPromise = new Promise((resolve) => {\n",
              "      const reader = new FileReader();\n",
              "      reader.onload = (e) => {\n",
              "        resolve(e.target.result);\n",
              "      };\n",
              "      reader.readAsArrayBuffer(file);\n",
              "    });\n",
              "    // Wait for the data to be ready.\n",
              "    let fileData = yield {\n",
              "      promise: fileDataPromise,\n",
              "      response: {\n",
              "        action: 'continue',\n",
              "      }\n",
              "    };\n",
              "\n",
              "    // Use a chunked sending to avoid message size limits. See b/62115660.\n",
              "    let position = 0;\n",
              "    do {\n",
              "      const length = Math.min(fileData.byteLength - position, MAX_PAYLOAD_SIZE);\n",
              "      const chunk = new Uint8Array(fileData, position, length);\n",
              "      position += length;\n",
              "\n",
              "      const base64 = btoa(String.fromCharCode.apply(null, chunk));\n",
              "      yield {\n",
              "        response: {\n",
              "          action: 'append',\n",
              "          file: file.name,\n",
              "          data: base64,\n",
              "        },\n",
              "      };\n",
              "\n",
              "      let percentDone = fileData.byteLength === 0 ?\n",
              "          100 :\n",
              "          Math.round((position / fileData.byteLength) * 100);\n",
              "      percent.textContent = `${percentDone}% done`;\n",
              "\n",
              "    } while (position < fileData.byteLength);\n",
              "  }\n",
              "\n",
              "  // All done.\n",
              "  yield {\n",
              "    response: {\n",
              "      action: 'complete',\n",
              "    }\n",
              "  };\n",
              "}\n",
              "\n",
              "scope.google = scope.google || {};\n",
              "scope.google.colab = scope.google.colab || {};\n",
              "scope.google.colab._files = {\n",
              "  _uploadFiles,\n",
              "  _uploadFilesContinue,\n",
              "};\n",
              "})(self);\n",
              "</script> "
            ]
          },
          "metadata": {}
        },
        {
          "output_type": "stream",
          "name": "stdout",
          "text": [
            "Saving hubble.txt to hubble.txt\n",
            "Saving Galton.txt to Galton.txt\n",
            "uploaded file \"hubble.txt\" with length 902\n",
            "uploaded file \"Galton.txt\" with length 16429\n"
          ]
        }
      ],
      "source": [
        "import os\n",
        "\n",
        "from google.colab import files\n",
        "uploaded = files.upload()\n",
        "\n",
        "for fn in uploaded.keys():\n",
        "  print('uploaded file \"{name}\" with length {length}'.format(name=fn, length=len(uploaded[fn])))"
      ]
    },
    {
      "cell_type": "code",
      "source": [
        "data = np.genfromtxt('Galton.txt',dtype=None,names=True)\n",
        "#select for only mothers and daughters\n",
        "ax = plt.hist2d(data[data['Gender'] == b'F']['Height'],data[data['Gender'] == b'F']['Mother'],density=True)\n",
        "plt.ylabel('Mothers height (in)')\n",
        "plt.xlabel('Daughters height (in)')"
      ],
      "metadata": {
        "colab": {
          "base_uri": "https://localhost:8080/",
          "height": 331
        },
        "id": "o6cjWe8rpne9",
        "outputId": "945a2ae7-3d62-4713-df52-9bc4b676c86e"
      },
      "execution_count": null,
      "outputs": [
        {
          "output_type": "stream",
          "name": "stderr",
          "text": [
            "<ipython-input-226-21221eead14a>:1: VisibleDeprecationWarning: Reading unicode strings without specifying the encoding argument is deprecated. Set the encoding, use None for the system default.\n",
            "  data = np.genfromtxt('Galton.txt',dtype=None,names=True)\n"
          ]
        },
        {
          "output_type": "execute_result",
          "data": {
            "text/plain": [
              "Text(0.5, 0, 'Daughters height (in)')"
            ]
          },
          "metadata": {},
          "execution_count": 226
        },
        {
          "output_type": "display_data",
          "data": {
            "text/plain": [
              "<Figure size 432x288 with 1 Axes>"
            ],
            "image/png": "[encoded data removed]"
          },
          "metadata": {
            "needs_background": "light"
          }
        }
      ]
    },
    {
      "cell_type": "markdown",
      "metadata": {
        "id": "kkc6Lb2Bd1Mf"
      },
      "source": [
        "### Step 2 (2pts)\n",
        "\n",
        "Select $X$ and $Y$ such that they have the same gender. Now compute the conditional distribution $p(y\\mid x > 71)$ (for fathers and sons) or $p(y\\mid x > 66)$ (for mothers and daughters). Plot their histograms and compute their means.\n",
        "\n",
        "Answer these three questions:\n",
        "\n",
        "* What do you find?\n",
        "* With the same data, can you think of a way to test whether tall parents are causally responsible for their children being less tall?\n",
        "* If there is no causal connection, what does that mean for conditioning on extreme events?"
      ]
    },
    {
      "cell_type": "code",
      "execution_count": null,
      "metadata": {
        "colab": {
          "base_uri": "https://localhost:8080/",
          "height": 351
        },
        "id": "tdWmtNs0d1Mf",
        "outputId": "0d2ca227-ba0c-4999-a815-997d273a2f58"
      },
      "outputs": [
        {
          "output_type": "execute_result",
          "data": {
            "text/plain": [
              "Text(0, 0.5, 'P(y|x>66)')"
            ]
          },
          "metadata": {},
          "execution_count": 332
        },
        {
          "output_type": "display_data",
          "data": {
            "text/plain": [
              "<Figure size 1440x360 with 2 Axes>"
            ],
            "image/png": "[encoded data removed]"
          },
          "metadata": {
            "needs_background": "light"
          }
        }
      ],
      "source": [
        "Ysons = data[data['Gender'] == b'M']['Height']\n",
        "Xdads = data[data['Gender'] == b'M']['Father']\n",
        "\n",
        "fig, ax = plt.subplots(1,2,figsize=(20, 5),sharex=True)\n",
        "joints, xedge, yedge= np.histogram2d(Xdads,Ysons,density=True,bins=16)\n",
        "#get p(x>71)\n",
        "px71 = len(Xdads[Xdads>71])/len(Xdads)\n",
        "\n",
        "#get conditional by dividing joint / p(x)\n",
        "py_x71 = np.sum(joints[:,np.where(xedge[1:]>71)]/px71,2)\n",
        "ax[0].bar(yedge[1:],py_x71.T[0],align='center')\n",
        "#ax[0].set_xticks(yedge[1:11])\n",
        "ax[0].set_xlabel('Height of son (in)')\n",
        "ax[0].set_ylabel('P(y|x>71)')\n",
        "\n",
        "Ygirls = data[data['Gender'] == b'F']['Height']\n",
        "Xmoms = data[data['Gender'] == b'F']['Mother']\n",
        "joints, xedge, yedge= np.histogram2d(Xmoms,Ygirls,density=True,bins=16)\n",
        "#get p(x>66)\n",
        "px66 = len(Xmoms[Xmoms>66])/len(Xmoms)\n",
        "\n",
        "#get conditional by dividing joint / p(x)\n",
        "py_x66 = np.sum(joints[:,np.where(xedge[1:]>66)]/px66,2)\n",
        "ax[1].bar(yedge[1:],py_x66.T[0],align='center')\n",
        "#ax[1].set_xticks(yedge[1:11])\n",
        "ax[1].set_xlabel('Height of daughter (in)')\n",
        "ax[1].set_ylabel('P(y|x>66)')\n",
        "\n",
        "##\n",
        "# What do you find?\n",
        "# With the same data, can you think of a way to test whether tall parents are causally responsible for their children being less tall?\n",
        "# If there is no causal connection, what does that mean for conditioning on extreme events?"
      ]
    },
    {
      "cell_type": "markdown",
      "metadata": {
        "id": "JvTYdZKDd1Mg"
      },
      "source": [
        "## Problem 3: Likelihood vs Prior (1pt)\n",
        "\n",
        "Leveraging again `scipy.stats`, reproduce the figure from [this](https://twitter.com/avehtari/status/1218896617346162688?s=20) tweet. To see it here, execute the next cell.\n",
        "\n",
        "In detail, choose [Student's t distribution](https://docs.scipy.org/doc/scipy/reference/generated/scipy.stats.t.html#scipy.stats.t) with 4 degrees of freedom and the standard normal distribution for either the likelihood or the prior, but separate them by $\\delta x=10$. Compute and plot the posteriors.\n",
        "\n",
        "Which of these prior distributions is more robust to outliers in the data?"
      ]
    },
    {
      "cell_type": "code",
      "execution_count": null,
      "metadata": {
        "colab": {
          "base_uri": "https://localhost:8080/",
          "height": 874
        },
        "id": "t1tiaWYzd1Mg",
        "outputId": "8636f442-c6be-4957-ae37-80ce2e589c81"
      },
      "outputs": [
        {
          "output_type": "execute_result",
          "data": {
            "text/plain": [
              "<__main__.Tweet at 0x7f1ab2beb640>"
            ],
            "text/html": [
              "<blockquote class=\"twitter-tweet\"><p lang=\"en\" dir=\"ltr\">Here&#39;s an illustration of this...<br><br>...wait, where did that mule go? <a href=\"https://t.co/jR589tfZLE\">https://t.co/jR589tfZLE</a> <a href=\"https://t.co/c05luQePpQ\">pic.twitter.com/c05luQePpQ</a></p>&mdash; Aki Vehtari (@avehtari@bayes.club) (@avehtari) <a href=\"https://twitter.com/avehtari/status/1218896617346162688?ref_src=twsrc%5Etfw\">January 19, 2020</a></blockquote>\n",
              "<script async src=\"https://platform.twitter.com/widgets.js\" charset=\"utf-8\"></script>\n"
            ]
          },
          "metadata": {},
          "execution_count": 333
        }
      ],
      "source": [
        "import requests\n",
        "\n",
        "class Tweet(object):\n",
        "    def __init__(self, s, embed_str=False):\n",
        "        if not embed_str:\n",
        "            # Use Twitter's oEmbed API\n",
        "            # https://dev.twitter.com/web/embedded-tweets\n",
        "            api = 'https://publish.twitter.com/oembed?url={}'.format(s)\n",
        "            response = requests.get(api)\n",
        "            self.text = response.json()[\"html\"]\n",
        "        else:\n",
        "            self.text = s\n",
        "\n",
        "    def _repr_html_(self):\n",
        "        return self.text\n",
        "\n",
        "Tweet(\"https://twitter.com/avehtari/status/1218896617346162688?s=20\")"
      ]
    },
    {
      "cell_type": "code",
      "execution_count": null,
      "metadata": {
        "colab": {
          "base_uri": "https://localhost:8080/",
          "height": 282
        },
        "id": "RIx0kmJ8d1Mh",
        "outputId": "ef64ccac-4b0e-476e-87df-fd08445c0b22"
      },
      "outputs": [
        {
          "output_type": "execute_result",
          "data": {
            "text/plain": [
              "[<matplotlib.lines.Line2D at 0x7f1ab1bb8970>]"
            ]
          },
          "metadata": {},
          "execution_count": 397
        },
        {
          "output_type": "display_data",
          "data": {
            "text/plain": [
              "<Figure size 432x288 with 1 Axes>"
            ],
            "image/png": "[encoded data removed]"
          },
          "metadata": {
            "needs_background": "light"
          }
        }
      ],
      "source": [
        "#tdist = stats.t(df=4)\n",
        "df=4\n",
        "x = np.linspace(-7,20, 100)\n",
        "\n",
        "prior = stats.t.pdf(x, df)\n",
        "likelihood = stats.norm.pdf(x-10,df)\n",
        "\n",
        "plt.plot(x, stats.t.pdf(x, df),'b-', lw=2.5, alpha=0.6, label='t pdf')\n",
        "plt.plot(x, stats.norm.pdf(x-10,df),'r-', lw=2.5, alpha=0.6, label='norm pdf')\n",
        "plt.plot(x, np.multiply(prior,likelihood)/np.sum((np.multiply(prior,likelihood))), 'k-', lw=2.5, alpha=0.6, label='posterior pdf')\n",
        "\n",
        "#Which of these prior distributions is more robust to outliers in the data?\n",
        "#seems like normal dist has greater effect on post... idk why?"
      ]
    },
    {
      "cell_type": "markdown",
      "metadata": {
        "id": "pPu_QUfGd1Mh"
      },
      "source": [
        "## Problem 4: Hubble was no Bayesian (4pts)\n",
        "\n",
        "...but you can be!\n",
        "\n",
        "In 1929, Edwin Hubble published a seminal [paper](http://www.pnas.org/content/pnas/15/3/168.full.pdf), in which he compared the radial velocity of astronomical objects (i.e. how fast these objects move towards or away from us) with their distance. The former can be done pretty precisely with spectroscopy, the latter is much more uncertain.\n",
        "\n",
        "He saw that the velocity increases with distance and speculated that this could be the sign of a cosmological expansion. This lead cosmologist to believe in the Big Bang theory."
      ]
    },
    {
      "cell_type": "markdown",
      "metadata": {
        "id": "jjjEquTJd1Mh"
      },
      "source": [
        "### Step 0:\n",
        "\n",
        "Load the data from the file `hubble.txt` into an array with `numpy.genfromtxt`, and make again use of the arguments `names` and `dtype`. You should get 6 columns\n",
        "   * `CAT`, `NUMBER`:  These two combined give you the name of the galaxy.\n",
        "   * `R`: distance in Mpc\n",
        "   * `V`: radial velocity in km/s\n",
        "   * `RA`, `DEC`: equatorial coordinates of the galaxy\n",
        "   \n",
        "Make a scatter plot of $R$ vs $V$ (that means the independent variable is $V$). Don't forget labels and units..."
      ]
    },
    {
      "cell_type": "code",
      "execution_count": null,
      "metadata": {
        "id": "synsQtN2d1Mh",
        "colab": {
          "base_uri": "https://localhost:8080/",
          "height": 331
        },
        "outputId": "c3e467a1-b15e-4b78-bc55-081de85440e7"
      },
      "outputs": [
        {
          "output_type": "stream",
          "name": "stderr",
          "text": [
            "<ipython-input-3-d2062b31bfd1>:1: VisibleDeprecationWarning: Reading unicode strings without specifying the encoding argument is deprecated. Set the encoding, use None for the system default.\n",
            "  data = np.genfromtxt('hubble.txt',dtype=None,names=True)\n"
          ]
        },
        {
          "output_type": "execute_result",
          "data": {
            "text/plain": [
              "Text(0, 0.5, 'V velocity (km/s)')"
            ]
          },
          "metadata": {},
          "execution_count": 3
        },
        {
          "output_type": "display_data",
          "data": {
            "text/plain": [
              "<Figure size 432x288 with 1 Axes>"
            ],
            "image/png": "[encoded data removed]"
          },
          "metadata": {
            "needs_background": "light"
          }
        }
      ],
      "source": [
        "data = np.genfromtxt('hubble.txt',dtype=None,names=True)\n",
        "\n",
        "plt.scatter(data[\"R\"],data[\"V\"])\n",
        "plt.xlabel(\"R distance (Mpc)\")\n",
        "plt.ylabel(\"V velocity (km/s)\")"
      ]
    },
    {
      "cell_type": "markdown",
      "metadata": {
        "id": "ezqyytVZd1Mi"
      },
      "source": [
        "### Step 1 (1pt):\n",
        "\n",
        "Use linear regression to determine the MLE of the slope $b$ for the line $R=b V$. This is a linear model **with no intercept**. Print the MLE. Then, create a new version of the scatter plot by adding the MLE line.\n",
        "\n",
        "**Tip:** You don't need measurement uncertainties (there aren't any in Hubble's data) to determine the MLE."
      ]
    },
    {
      "cell_type": "code",
      "execution_count": null,
      "metadata": {
        "id": "S17VSA58d1Mi",
        "colab": {
          "base_uri": "https://localhost:8080/",
          "height": 300
        },
        "outputId": "fcbfa548-7d83-4d5f-aa1a-61ab03911480"
      },
      "outputs": [
        {
          "output_type": "stream",
          "name": "stdout",
          "text": [
            "a, b = 454.158, -40.784\n"
          ]
        },
        {
          "output_type": "execute_result",
          "data": {
            "text/plain": [
              "[<matplotlib.lines.Line2D at 0x7ff7916c7670>]"
            ]
          },
          "metadata": {},
          "execution_count": 38
        },
        {
          "output_type": "display_data",
          "data": {
            "text/plain": [
              "<Figure size 432x288 with 1 Axes>"
            ],
            "image/png": "[encoded data removed]"
          },
          "metadata": {
            "needs_background": "light"
          }
        }
      ],
      "source": [
        "X = np.vander(data[\"R\"], N=2)\n",
        "\n",
        "theta = np.linalg.inv(X.T @ X) @ X.T @ data['V']\n",
        "\n",
        "print (\"a, b = {:.3f}, {:.3f}\".format(*theta))\n",
        "\n",
        "plt.scatter(data[\"R\"],data[\"V\"])\n",
        "x_ = np.linspace(0,2,100)\n",
        "\n",
        "abline_values = [theta[0] * i + theta[1] for i in x_]\n",
        "plt.plot(x_, abline_values, 'r')"
      ]
    },
    {
      "cell_type": "markdown",
      "metadata": {
        "id": "W8Gw8lLHd1Mi"
      },
      "source": [
        "### Step 2 (2pts):\n",
        "\n",
        "The full Gaussian likelihood of the linear regression problem has a term for the intercept $a$, slope $b$, and *uncertainty* $\\sigma$ of $R$. We will assume that the uncertainties of all data points are identical. Adopt uninformative priors for all of the parameters $\\theta=(a,b,\\sigma)$.\n",
        "\n",
        "Compute the log posterior on a reasonably fine grid of $(a,b,\\sigma)$, picking suitable limits for every parameter. Then marginalize out $\\sigma$ and plot the log posterior for the remaining parameters $(a,b)$.\n",
        "\n",
        "**Tip:** The function `scipy.special.logsumexp` is useful."
      ]
    },
    {
      "cell_type": "code",
      "execution_count": null,
      "metadata": {
        "id": "Y5JqF8eVd1Mi"
      },
      "outputs": [],
      "source": [
        "theta = [1,1,1]"
      ]
    },
    {
      "cell_type": "markdown",
      "metadata": {
        "id": "HzmWanNad1Mi"
      },
      "source": [
        "### Step 3 (1pt):\n",
        "\n",
        "Use the function `sample_2d` below to draw samples from the 2D array of the posterior of $(a,b)$. Create a final version of the scatter plot by adding the lines that correspond to these posterior draws.\n",
        "\n",
        "**Tip:** When plotting, set the transparency `alpha` to values < 1, so that multiple draws of the same parameter pair become visually more important."
      ]
    },
    {
      "cell_type": "code",
      "execution_count": null,
      "metadata": {
        "id": "DgqijnyJd1Mi"
      },
      "outputs": [],
      "source": [
        "# taken from https://stackoverflow.com/questions/56017163\n",
        "def sample_2d(dist2d, n=50, replace=True):\n",
        "    \"\"\"\n",
        "    Given an array representing a 2D joint probability distribution p(x,y), return n index pairs (i_x, i_y) sampled\n",
        "    according to that distribution\n",
        "    \"\"\"\n",
        "    import numpy as np\n",
        "\n",
        "    shape = dist2d.shape\n",
        "    N = np.prod(shape)\n",
        "    \n",
        "    # generate the set of all x,y pairs represented by the pmf\n",
        "    pairs=np.indices(dimensions=shape).T # here are all of the x,y pairs \n",
        "\n",
        "    # make n random selections from the flattened pmf\n",
        "    inds = np.random.choice(np.arange(N), p=dist2d.reshape(N), size=n, replace=replace)\n",
        "\n",
        "    # inds is the set of n randomly chosen indicies into the flattened dist array...\n",
        "    # therefore the random x,y selections\n",
        "    # come from selecting the associated elements\n",
        "    # from the flattened pairs array\n",
        "    return pairs.reshape(-1,2)[inds]"
      ]
    },
    {
      "cell_type": "code",
      "execution_count": null,
      "metadata": {
        "id": "Qh4OEFgCd1Mj"
      },
      "outputs": [],
      "source": []
    }
  ],
  "metadata": {
    "kernelspec": {
      "display_name": "Python 3",
      "language": "python",
      "name": "python3"
    },
    "language_info": {
      "codemirror_mode": {
        "name": "ipython",
        "version": 3
      },
      "file_extension": ".py",
      "mimetype": "text/x-python",
      "name": "python",
      "nbconvert_exporter": "python",
      "pygments_lexer": "ipython3",
      "version": "3.7.4"
    },
    "colab": {
      "provenance": []
    }
  },
  "nbformat": 4,
  "nbformat_minor": 0
}